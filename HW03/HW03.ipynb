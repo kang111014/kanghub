{
 "cells": [
  {
   "cell_type": "code",
   "execution_count": 1,
   "id": "e219dc07-6eef-4492-990a-ece9abf4993d",
   "metadata": {},
   "outputs": [],
   "source": [
    "import requests\n",
    "from bs4 import BeautifulSoup\n",
    "import pandas as pd\n",
    "import json\n",
    "import re\n",
    "\n",
    "url = 'https://www.ptt.cc/bbs/Gossiping/index.html'\n",
    "\n",
    "response = requests.get(url, cookies={'over18': '1'})\n",
    "\n",
    "#BeautifulSoup\n",
    "soup = BeautifulSoup(response.text, 'html.parser')\n",
    "\n",
    "#找到文章\n",
    "articles = soup.find_all('div', class_='r-ent')\n",
    "\n",
    "results = []\n",
    "for article in articles:\n",
    "    # 使用正則表達式清洗資料\n",
    "    title = re.sub(r'\\s+', ' ', article.find('div', class_='title').text).strip()\n",
    "    results.append({'title': title})\n",
    "    \n",
    "# 轉為 DataFrame\n",
    "df = pd.DataFrame(results)\n",
    "\n",
    "# 輸出為 CSV 檔\n",
    "df.to_csv('ptt_articles.csv', index=False)\n",
    "\n",
    "# 輸出為 JSON 檔\n",
    "with open('ptt_articles.json', 'w') as f:\n",
    "    json.dump(results, f)\n"
   ]
  },
  {
   "cell_type": "code",
   "execution_count": null,
   "id": "b7ec2934-45fe-4e10-a3cc-7c6ae72afeb9",
   "metadata": {},
   "outputs": [],
   "source": []
  }
 ],
 "metadata": {
  "kernelspec": {
   "display_name": "Python 3 (ipykernel)",
   "language": "python",
   "name": "python3"
  },
  "language_info": {
   "codemirror_mode": {
    "name": "ipython",
    "version": 3
   },
   "file_extension": ".py",
   "mimetype": "text/x-python",
   "name": "python",
   "nbconvert_exporter": "python",
   "pygments_lexer": "ipython3",
   "version": "3.11.5"
  }
 },
 "nbformat": 4,
 "nbformat_minor": 5
}
