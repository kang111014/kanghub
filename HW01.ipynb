{
 "cells": [
  {
   "cell_type": "code",
   "execution_count": 1,
   "id": "d8caf3a5-9b61-4b63-849d-d015af4772bb",
   "metadata": {},
   "outputs": [
    {
     "name": "stdout",
     "output_type": "stream",
     "text": [
      "聯集: {52000, 60000, 56000, 57000, 53000, 59000, 50000, 54000, 58000, 51000, '男', 55000, '女'}\n",
      "交集: set()\n",
      "差集: {'女', '男'}\n",
      "    性別  薪資(月薪)\n",
      "0    男   50000\n",
      "1    女   55000\n",
      "2    男   60000\n",
      "3    男   52000\n",
      "4    女   48000\n",
      "..  ..     ...\n",
      "99   女   53000\n",
      "100  男   59000\n",
      "101  女   55000\n",
      "102  男   60000\n",
      "103  女   56000\n",
      "\n",
      "[104 rows x 2 columns]\n"
     ]
    }
   ],
   "source": [
    "import pandas as pd\n",
    "df = pd.read_csv('abc.csv')\n",
    "#set_data = set(tuple(row) for row in df.to_numpy())\n",
    "\n",
    "salary_over_55000 = df[df['薪資(月薪)'] > 55000]['性別']\n",
    "gender_male = df[df['性別'] == '男']['薪資(月薪)']\n",
    "\n",
    "salary_over_55000_set = set(salary_over_55000)\n",
    "gender_male_set = set(gender_male)\n",
    "\n",
    "union_set = salary_over_55000_set.union(gender_male_set)\n",
    "print(\"聯集:\", union_set)\n",
    "\n",
    "intersection_set = salary_over_55000_set.intersection(gender_male_set)\n",
    "print(\"交集:\", intersection_set)\n",
    "difference_set = salary_over_55000_set.difference(gender_male_set)\n",
    "print(\"差集:\", difference_set)\n",
    "\n",
    "# 薪水超過 55000 的員工中，有女性和男性，薪水範圍是 {52000, 60000, 56000, 57000, 53000, 59000}。\n",
    "# 性別為男性的員工中，沒有薪水超過 55000 的情況。\n",
    "# 薪水超過 55000 的員工與性別為男性的員工之間的交集為空集合，表示兩個集合沒有共同元素。\n",
    "# 差集中包含了所有薪水超過 55000 的員工的性別以及所有性別為男性的員工的性別，即 {'女', '男'}。\n",
    "# print(df)"
   ]
  },
  {
   "cell_type": "code",
   "execution_count": null,
   "id": "8b7f13c6-97c7-4b17-9bc4-e7f53d94189e",
   "metadata": {},
   "outputs": [],
   "source": []
  }
 ],
 "metadata": {
  "kernelspec": {
   "display_name": "Python 3 (ipykernel)",
   "language": "python",
   "name": "python3"
  },
  "language_info": {
   "codemirror_mode": {
    "name": "ipython",
    "version": 3
   },
   "file_extension": ".py",
   "mimetype": "text/x-python",
   "name": "python",
   "nbconvert_exporter": "python",
   "pygments_lexer": "ipython3",
   "version": "3.11.5"
  }
 },
 "nbformat": 4,
 "nbformat_minor": 5
}
